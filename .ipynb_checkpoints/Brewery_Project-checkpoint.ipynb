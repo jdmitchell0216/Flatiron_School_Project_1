{
 "cells": [
  {
   "cell_type": "code",
   "execution_count": 2,
   "metadata": {},
   "outputs": [],
   "source": [
    "# import all the libraries we need\n",
    "import requests\n",
    "import json\n",
    "import pandas as pd\n",
    "import seaborn as sns\n",
    "import matplotlib.pyplot as plt\n",
    "import numpy as np\n",
    "import key"
   ]
  },
  {
   "cell_type": "code",
   "execution_count": 1,
   "metadata": {},
   "outputs": [],
   "source": [
    "# func to get the api \n",
    "def get_all_info_brew(url, api_key, start_page=1, page_lim=100): \n",
    "    '''takes in a url in the form of a string\n",
    "       takes in an api_key as a string\n",
    "       takes optional parameter start_page as an int which defaults to 1\n",
    "       takes optional parameter page_limit as an int which defaults to 100\n",
    "       returns a list of jsons files'''\n",
    "    data = [] \n",
    "    p = start_page\n",
    "    while p <= page_lim:\n",
    "        url_params = {\n",
    "                        'key': api_key,\n",
    "                        \"withBreweries\" : \"Y\",\n",
    "                        \"p\": p\n",
    "                    }\n",
    "        data.append(requests.get(url,params=url_params).json())\n",
    "        p += 1\n",
    "    return data"
   ]
  },
  {
   "cell_type": "code",
   "execution_count": null,
   "metadata": {},
   "outputs": [],
   "source": [
    "url = \"https://api.brewerydb.com/v2/\"\n",
    "key"
   ]
  },
  {
   "cell_type": "code",
   "execution_count": null,
   "metadata": {},
   "outputs": [],
   "source": [
    "#opens our json file that we saved to a file\n",
    "\n",
    "with open(\"brew_data_pages_1_to_200_backup.json.txt\") as datajson:\n",
    "    brew_data =json.load(datajson)"
   ]
  }
 ],
 "metadata": {
  "kernelspec": {
   "display_name": "Python 3",
   "language": "python",
   "name": "python3"
  },
  "language_info": {
   "codemirror_mode": {
    "name": "ipython",
    "version": 3
   },
   "file_extension": ".py",
   "mimetype": "text/x-python",
   "name": "python",
   "nbconvert_exporter": "python",
   "pygments_lexer": "ipython3",
   "version": "3.7.1"
  }
 },
 "nbformat": 4,
 "nbformat_minor": 2
}
