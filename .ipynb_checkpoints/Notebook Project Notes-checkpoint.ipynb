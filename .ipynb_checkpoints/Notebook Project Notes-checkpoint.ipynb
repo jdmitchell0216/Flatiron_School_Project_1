{
 "cells": [
  {
   "cell_type": "code",
   "execution_count": 1,
   "metadata": {},
   "outputs": [],
   "source": [
    "import requests\n",
    "import json"
   ]
  },
  {
   "cell_type": "code",
   "execution_count": 11,
   "metadata": {},
   "outputs": [],
   "source": [
    "def get_all_info(): \n",
    "    data = []\n",
    "    SEARCH_LIMIT = 50\n",
    "    search_count = SEARCH_LIMIT\n",
    "\n",
    "    url = \"https://api.fda.gov/drug/event.json\"\n",
    "\n",
    "    url_params = {\n",
    "                    'limit': SEARCH_LIMIT,\n",
    "                }\n",
    "    data = requests.get(url,params=url_params)\n",
    "\n",
    "    return data"
   ]
  },
  {
   "cell_type": "code",
   "execution_count": 12,
   "metadata": {},
   "outputs": [],
   "source": [
    "data = get_all_info()"
   ]
  },
  {
   "cell_type": "code",
   "execution_count": 15,
   "metadata": {},
   "outputs": [],
   "source": [
    "data = data.json()"
   ]
  },
  {
   "cell_type": "code",
   "execution_count": 16,
   "metadata": {},
   "outputs": [
    {
     "data": {
      "text/plain": [
       "dict_keys(['meta', 'results'])"
      ]
     },
     "execution_count": 16,
     "metadata": {},
     "output_type": "execute_result"
    }
   ],
   "source": [
    "data.keys()"
   ]
  },
  {
   "cell_type": "code",
   "execution_count": 22,
   "metadata": {},
   "outputs": [
    {
     "data": {
      "text/plain": [
       "dict_keys(['receiptdateformat', 'receiver', 'companynumb', 'receivedateformat', 'primarysource', 'seriousnessother', 'transmissiondateformat', 'fulfillexpeditecriteria', 'safetyreportid', 'sender', 'receivedate', 'patient', 'seriousnesshospitalization', 'transmissiondate', 'serious', 'receiptdate'])"
      ]
     },
     "execution_count": 22,
     "metadata": {},
     "output_type": "execute_result"
    }
   ],
   "source": [
    "data['results'][0].keys()"
   ]
  },
  {
   "cell_type": "code",
   "execution_count": 25,
   "metadata": {},
   "outputs": [
    {
     "data": {
      "text/plain": [
       "{'receiptdateformat': '102',\n",
       " 'receiver': None,\n",
       " 'companynumb': 'HQWYE821915MAR04',\n",
       " 'receivedateformat': '102',\n",
       " 'primarysource': None,\n",
       " 'seriousnessother': '1',\n",
       " 'transmissiondateformat': '102',\n",
       " 'fulfillexpeditecriteria': '1',\n",
       " 'safetyreportid': '4322505-4',\n",
       " 'sender': {'senderorganization': 'FDA-Public Use'},\n",
       " 'receivedate': '20040319',\n",
       " 'patient': {'patientonsetage': '56',\n",
       "  'reaction': [{'reactionmeddrapt': 'ARTHRALGIA'},\n",
       "   {'reactionmeddrapt': 'OEDEMA PERIPHERAL'},\n",
       "   {'reactionmeddrapt': 'PURPURA'}],\n",
       "  'patientonsetageunit': '801',\n",
       "  'patientsex': '1',\n",
       "  'drug': [{'drugstartdateformat': '102',\n",
       "    'drugindication': 'PYELONEPHRITIS',\n",
       "    'drugadministrationroute': '048',\n",
       "    'drugtreatmentduration': '4',\n",
       "    'drugcharacterization': '1',\n",
       "    'drugstartdate': '20031227',\n",
       "    'drugenddateformat': '102',\n",
       "    'drugtreatmentdurationunit': '804',\n",
       "    'drugdosagetext': 'ORAL',\n",
       "    'drugauthorizationnumb': '50621',\n",
       "    'drugenddate': '20031230',\n",
       "    'medicinalproduct': 'OROKEN (CEFIXIME, UNSPEC)'},\n",
       "   {'drugcharacterization': '2',\n",
       "    'medicinalproduct': 'PYOSTACINE (PRISTINAMYCIN)'},\n",
       "   {'drugcharacterization': '2', 'medicinalproduct': 'ROCEPHIN'},\n",
       "   {'drugcharacterization': '2',\n",
       "    'openfda': {'product_ndc': ['0404-7189',\n",
       "      '64980-515',\n",
       "      '75834-120',\n",
       "      '11980-779',\n",
       "      '50383-025',\n",
       "      '50383-024',\n",
       "      '13985-602',\n",
       "      '55545-1003',\n",
       "      '75834-112',\n",
       "      '60505-0363',\n",
       "      '68047-713',\n",
       "      '0517-0760',\n",
       "      '0517-0761',\n",
       "      '40042-049',\n",
       "      '59390-140',\n",
       "      '75834-119',\n",
       "      '75834-201',\n",
       "      '75834-200',\n",
       "      '71209-097',\n",
       "      '71209-098',\n",
       "      '71209-099',\n",
       "      '24208-434',\n",
       "      '75834-199',\n",
       "      '17478-713',\n",
       "      '24208-410'],\n",
       "     'package_ndc': ['13985-602-05',\n",
       "      '17478-713-11',\n",
       "      '17478-713-10',\n",
       "      '50383-025-05',\n",
       "      '71209-097-05',\n",
       "      '71209-098-02',\n",
       "      '71209-099-10',\n",
       "      '75834-119-50',\n",
       "      '71209-097-02',\n",
       "      '0517-0760-01',\n",
       "      '50383-024-10',\n",
       "      '75834-120-05',\n",
       "      '55545-1003-2',\n",
       "      '75834-120-01',\n",
       "      '75834-200-05',\n",
       "      '75834-112-01',\n",
       "      '75834-199-05',\n",
       "      '75834-200-01',\n",
       "      '75834-201-50',\n",
       "      '75834-112-05',\n",
       "      '68047-713-01',\n",
       "      '0404-7189-01',\n",
       "      '75834-200-50',\n",
       "      '24208-434-05',\n",
       "      '40042-049-10',\n",
       "      '75834-201-05',\n",
       "      '13985-602-10',\n",
       "      '50383-025-10',\n",
       "      '75834-119-05',\n",
       "      '55545-1003-1',\n",
       "      '24208-410-10',\n",
       "      '75834-119-01',\n",
       "      '50383-024-05',\n",
       "      '71209-099-05',\n",
       "      '71209-098-10',\n",
       "      '71209-099-02',\n",
       "      '11980-779-05',\n",
       "      '60505-0363-2',\n",
       "      '64980-515-01',\n",
       "      '71209-097-10',\n",
       "      '60505-0363-1',\n",
       "      '64980-515-05',\n",
       "      '0517-0761-01',\n",
       "      '75834-201-01',\n",
       "      '24208-434-10',\n",
       "      '24208-410-05',\n",
       "      '75834-120-50',\n",
       "      '75834-199-01',\n",
       "      '75834-112-50',\n",
       "      '75834-199-50',\n",
       "      '40042-049-05',\n",
       "      '59390-140-05',\n",
       "      '71209-098-05'],\n",
       "     'generic_name': ['OFLOXACIN', 'OFLOXAXIN'],\n",
       "     'spl_set_id': ['8db221b1-32f3-f6ca-e404-71f56a860d08',\n",
       "      '6a3dcc79-bde4-4c32-8a0e-ea14a1e1a191',\n",
       "      '7aab4449-3dda-4e2c-8e40-b3244a548bf5',\n",
       "      '81e8ece1-ab0b-4deb-8f84-79f21419b328',\n",
       "      '2ec6bd57-96df-47ac-b218-1469801868b7',\n",
       "      '1779c568-d7bb-4bd5-bc29-13bd52ba8a0a',\n",
       "      'ee1bf431-97fa-4aba-9cc3-0cfcea779ca2',\n",
       "      '7882f70e-d228-4c52-9390-0d927c51af1f',\n",
       "      'b4d09b4d-bc6a-405b-91c8-e4246336a1f7',\n",
       "      'fe564e33-8f5d-4b57-87a9-7afae02eaf97',\n",
       "      'c76d8dc7-9a66-471b-814b-ef7f3605ec93',\n",
       "      'ad40954d-0b1d-47c5-8bd5-8a1efd9a7153',\n",
       "      '8b73d354-4631-40e8-b187-e8b0580bd6ea',\n",
       "      'ef145ece-56d8-4dea-a136-ec462b335641',\n",
       "      'fcd7c5d7-42f4-4dcb-bc84-d976fafd5df4',\n",
       "      '227e11ab-4e07-4e34-b21d-ef965bae6272',\n",
       "      'c677b35c-0432-4ee5-af57-1f95449c48b6',\n",
       "      'c5484f1a-2321-453f-9469-dfcf709e2e2e'],\n",
       "     'brand_name': ['OFLOXACIN OTIC',\n",
       "      'OFLOXACIN OPHTHALMIC',\n",
       "      'OFLOXACIN',\n",
       "      'OCUFLOX'],\n",
       "     'manufacturer_name': ['Akorn, Inc.',\n",
       "      'Altaire Pharmaceuticals Inc.',\n",
       "      'PharmaForce, Inc.',\n",
       "      'American Regent, Inc.',\n",
       "      'Hi-Tech Pharmacal Co., Inc.',\n",
       "      'Larken Laboratories, Inc.',\n",
       "      'Allergan, Inc.',\n",
       "      'Rising Pharmaceuticals, Inc.',\n",
       "      'Bausch & Lomb Incorporated',\n",
       "      'Apotex Corp.',\n",
       "      'Cadila Pharmaceuticals Limited',\n",
       "      'Henry Schein Inc.',\n",
       "      'FDC Limited',\n",
       "      'MWI',\n",
       "      'Nivagen Pharmaceuticals, Inc.'],\n",
       "     'unii': ['A4P49JAZ9H'],\n",
       "     'rxcui': ['207202', '312075', '198048', '198049', '198050', '242446'],\n",
       "     'spl_id': ['509dde59-6f4d-410b-9835-81eb6a3e7623',\n",
       "      '2d731281-5564-43ff-9889-07931fb2c555',\n",
       "      '3e4a3dc8-8e55-cc6e-6fb1-3796147f4607',\n",
       "      'd2b7e684-27f1-4ee7-b235-58b632ac9694',\n",
       "      '84d7029b-f19a-4360-9fec-7a5e9282b7d7',\n",
       "      '763f6e7e-45d0-850d-e053-2a91aa0a4485',\n",
       "      '4662b8b1-2cfe-4472-bd5b-374737254a4f',\n",
       "      'e4abdf47-d651-478c-be0b-88b2f256023c',\n",
       "      '6467bdfc-698a-416e-97ed-f05c31b69063',\n",
       "      '243c0b7c-8011-4a94-8b25-0329de936439',\n",
       "      '0095d1d6-d83e-4e22-aa61-3b4753f0753b',\n",
       "      'bd2baa03-a145-4320-b7ca-d63f6343e9d6',\n",
       "      '0eacc7c9-657e-4593-86f1-901e7be1f0a4',\n",
       "      '3fc21b59-1737-4e42-8e35-98eb9256a4d3',\n",
       "      '0d187321-481b-4030-96b6-2df0bf5b0487',\n",
       "      'c41b0332-f580-4927-8621-9af1452f8ac6',\n",
       "      'ffd3b686-8151-4ef7-ad8c-62391295ee6e',\n",
       "      'df580e2b-f6c3-4ae2-92ba-c8a0dd3fe993'],\n",
       "     'substance_name': ['OFLOXACIN'],\n",
       "     'product_type': ['HUMAN PRESCRIPTION DRUG'],\n",
       "     'route': ['AURICULAR (OTIC)', 'ORAL', 'OPHTHALMIC'],\n",
       "     'application_number': ['ANDA076407',\n",
       "      'ANDA076830',\n",
       "      'ANDA091656',\n",
       "      'ANDA076128',\n",
       "      'NDA019921',\n",
       "      'ANDA076527',\n",
       "      'ANDA090395',\n",
       "      'ANDA076622',\n",
       "      'ANDA076616',\n",
       "      'ANDA202692',\n",
       "      'ANDA078559',\n",
       "      'ANDA076615',\n",
       "      'ANDA076093']},\n",
       "    'medicinalproduct': 'OFLOXACIN'}]},\n",
       " 'seriousnesshospitalization': '1',\n",
       " 'transmissiondate': '20041129',\n",
       " 'serious': '1',\n",
       " 'receiptdate': '20040315'}"
      ]
     },
     "execution_count": 25,
     "metadata": {},
     "output_type": "execute_result"
    }
   ],
   "source": [
    "data['results'][0]"
   ]
  },
  {
   "cell_type": "code",
   "execution_count": 30,
   "metadata": {},
   "outputs": [],
   "source": [
    "def get_all_info_brew(url, headers=False): \n",
    "    data = []\n",
    "    SEARCH_LIMIT = 50\n",
    "    currentPage = 1\n",
    "    \n",
    "\n",
    "    url = url\n",
    "    key = 'e73f87f79c4072ed815427a00296ddde'\n",
    "    \n",
    "    url_params = {\n",
    "                    'key': key,\n",
    "                }\n",
    "    data = requests.get(url,params=url_params)\n",
    "\n",
    "    return data"
   ]
  },
  {
   "cell_type": "code",
   "execution_count": 54,
   "metadata": {},
   "outputs": [],
   "source": [
    "#https://sandbox-api.brewerydb.com/v2/endpoint_name/?key=our_key\n",
    "\n",
    "url = \"https://sandbox-api.brewerydb.com/v2/beers/?key=e73f87f79c4072ed815427a00296ddde\""
   ]
  },
  {
   "cell_type": "code",
   "execution_count": 55,
   "metadata": {},
   "outputs": [],
   "source": [
    "brew_data = requests.get(url)"
   ]
  },
  {
   "cell_type": "code",
   "execution_count": 56,
   "metadata": {},
   "outputs": [],
   "source": [
    "brew_api = brew_data.json()"
   ]
  },
  {
   "cell_type": "code",
   "execution_count": 58,
   "metadata": {},
   "outputs": [
    {
     "data": {
      "text/plain": [
       "dict_keys(['currentPage', 'numberOfPages', 'totalResults', 'data', 'status'])"
      ]
     },
     "execution_count": 58,
     "metadata": {},
     "output_type": "execute_result"
    }
   ],
   "source": [
    "brew_api.keys()"
   ]
  },
  {
   "cell_type": "code",
   "execution_count": 65,
   "metadata": {},
   "outputs": [
    {
     "data": {
      "text/plain": [
       "50"
      ]
     },
     "execution_count": 65,
     "metadata": {},
     "output_type": "execute_result"
    }
   ],
   "source": [
    "len(brew_api[\"data\"])"
   ]
  },
  {
   "cell_type": "code",
   "execution_count": null,
   "metadata": {},
   "outputs": [],
   "source": []
  }
 ],
 "metadata": {
  "kernelspec": {
   "display_name": "Python 3",
   "language": "python",
   "name": "python3"
  },
  "language_info": {
   "codemirror_mode": {
    "name": "ipython",
    "version": 3
   },
   "file_extension": ".py",
   "mimetype": "text/x-python",
   "name": "python",
   "nbconvert_exporter": "python",
   "pygments_lexer": "ipython3",
   "version": "3.7.1"
  }
 },
 "nbformat": 4,
 "nbformat_minor": 2
}
